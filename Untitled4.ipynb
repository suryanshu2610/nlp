{
 "cells": [
  {
   "cell_type": "code",
   "execution_count": 1,
   "id": "3a74b445",
   "metadata": {},
   "outputs": [
    {
     "name": "stdout",
     "output_type": "stream",
     "text": [
      "(0, 'publication_number', 'TEXT', 0, None, 0)\n",
      "(1, 'application_number', 'TEXT', 0, None, 0)\n",
      "(2, 'country_code', 'TEXT', 0, None, 0)\n",
      "(3, 'title', 'TEXT', 0, None, 0)\n",
      "(4, 'abstract', 'TEXT', 0, None, 0)\n",
      "(5, 'claims', 'TEXT', 0, None, 0)\n",
      "(6, 'publication_date', 'INTEGER', 0, None, 0)\n",
      "(7, 'inventor', 'TEXT', 0, None, 0)\n"
     ]
    }
   ],
   "source": [
    "import sqlite3\n",
    "\n",
    "conn = sqlite3.connect(\"patent_db.sqlite\")\n",
    "cursor = conn.cursor()\n",
    "\n",
    "cursor.execute(\"PRAGMA table_info(patents)\")\n",
    "columns = cursor.fetchall()\n",
    "\n",
    "for col in columns:\n",
    "    print(col)\n",
    "\n",
    "conn.close()\n"
   ]
  },
  {
   "cell_type": "code",
   "execution_count": null,
   "id": "00303ac5",
   "metadata": {},
   "outputs": [],
   "source": []
  }
 ],
 "metadata": {
  "kernelspec": {
   "display_name": "Python 3 (ipykernel)",
   "language": "python",
   "name": "python3"
  },
  "language_info": {
   "codemirror_mode": {
    "name": "ipython",
    "version": 3
   },
   "file_extension": ".py",
   "mimetype": "text/x-python",
   "name": "python",
   "nbconvert_exporter": "python",
   "pygments_lexer": "ipython3",
   "version": "3.10.5"
  }
 },
 "nbformat": 4,
 "nbformat_minor": 5
}
