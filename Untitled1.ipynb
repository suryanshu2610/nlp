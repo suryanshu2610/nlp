{
 "cells": [
  {
   "cell_type": "code",
   "execution_count": 2,
   "id": "3699a498",
   "metadata": {},
   "outputs": [
    {
     "name": "stdout",
     "output_type": "stream",
     "text": [
      "✅ config.toml created at: C:\\Users\\lenovo\\Desktop\\sementic search\\streamlit_config\\config.toml\n"
     ]
    }
   ],
   "source": [
    "import os\n",
    "\n",
    "# Step 1: Define full path to your project folder (replace with your own path if needed)\n",
    "project_dir = os.getcwd()  # This uses the current working directory\n",
    "streamlit_dir = os.path.join(project_dir, \"streamlit_config\")\n",
    "\n",
    "# Step 2: Make the directory\n",
    "os.makedirs(streamlit_dir, exist_ok=True)\n",
    "\n",
    "# Step 3: Write the config.toml file\n",
    "config_path = os.path.join(streamlit_dir, \"config.toml\")\n",
    "with open(config_path, \"w\") as f:\n",
    "    f.write(\"[general]\\npythonVersion = \\\"3.10\\\"\\n\")\n",
    "\n",
    "print(f\"✅ config.toml created at: {config_path}\")\n"
   ]
  },
  {
   "cell_type": "code",
   "execution_count": null,
   "id": "4c0fbd51",
   "metadata": {},
   "outputs": [],
   "source": []
  }
 ],
 "metadata": {
  "kernelspec": {
   "display_name": "Python 3 (ipykernel)",
   "language": "python",
   "name": "python3"
  },
  "language_info": {
   "codemirror_mode": {
    "name": "ipython",
    "version": 3
   },
   "file_extension": ".py",
   "mimetype": "text/x-python",
   "name": "python",
   "nbconvert_exporter": "python",
   "pygments_lexer": "ipython3",
   "version": "3.10.5"
  }
 },
 "nbformat": 4,
 "nbformat_minor": 5
}
