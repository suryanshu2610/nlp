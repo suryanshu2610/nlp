{
 "cells": [
  {
   "cell_type": "code",
   "execution_count": null,
   "id": "9926d950",
   "metadata": {
    "scrolled": true
   },
   "outputs": [],
   "source": [
    "import sqlite3\n",
    "import pandas as pd\n",
    "from sentence_transformers import SentenceTransformer\n",
    "import numpy as np\n",
    "\n",
    "# Connect to SQLite database\n",
    "conn = sqlite3.connect(r\"C:\\Users\\lenovo\\Desktop\\sementic search\\patent_db.sqlite\")\n",
    "\n",
    "# Load data from the 'patents' table (exclude 'processed')\n",
    "query = \"SELECT id, title, abstract, patent_number, publication_date, inventors, assignees FROM patents\"\n",
    "df = pd.read_sql_query(query, conn)\n",
    "\n",
    "# Combine title and abstract for embeddings\n",
    "df[\"title\"] = df[\"title\"].fillna(\"\")\n",
    "df[\"abstract\"] = df[\"abstract\"].fillna(\"\")\n",
    "df[\"text\"] = df[\"title\"] + \". \" + df[\"abstract\"]\n",
    "\n",
    "# Load SentenceTransformer model\n",
    "model = SentenceTransformer(\"all-MiniLM-L6-v2\")\n",
    "\n",
    "# Generate sentence embeddings\n",
    "texts = df[\"text\"].tolist()\n",
    "embeddings = model.encode(texts, show_progress_bar=True)\n",
    "\n",
    "# Save outputs\n",
    "np.save(\"embeddings1.npy\", embeddings)\n",
    "df.to_csv(\"patent_data1.csv\", index=False)\n",
    "\n",
    "# Close connection\n",
    "conn.close()\n",
    "\n",
    "print(\"✅ Embeddings and CSV file saved.\")"
   ]
  },
  {
   "cell_type": "code",
   "execution_count": null,
   "id": "dc403f0c",
   "metadata": {},
   "outputs": [],
   "source": [
    "!streamlit run app.py"
   ]
  },
  {
   "cell_type": "code",
   "execution_count": null,
   "id": "96187276",
   "metadata": {},
   "outputs": [],
   "source": []
  }
 ],
 "metadata": {
  "kernelspec": {
   "display_name": "Python 3 (ipykernel)",
   "language": "python",
   "name": "python3"
  },
  "language_info": {
   "codemirror_mode": {
    "name": "ipython",
    "version": 3
   },
   "file_extension": ".py",
   "mimetype": "text/x-python",
   "name": "python",
   "nbconvert_exporter": "python",
   "pygments_lexer": "ipython3",
   "version": "3.10.5"
  }
 },
 "nbformat": 4,
 "nbformat_minor": 5
}
