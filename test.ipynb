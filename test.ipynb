{
 "cells": [
  {
   "cell_type": "code",
   "execution_count": 1,
   "id": "9926d950",
   "metadata": {},
   "outputs": [
    {
     "data": {
      "application/vnd.jupyter.widget-view+json": {
       "model_id": "1f2872ec041f40cabb67e1e6bd1f90eb",
       "version_major": 2,
       "version_minor": 0
      },
      "text/plain": [
       "Batches:   0%|          | 0/14260 [00:00<?, ?it/s]"
      ]
     },
     "metadata": {},
     "output_type": "display_data"
    },
    {
     "name": "stderr",
     "output_type": "stream",
     "text": [
      "C:\\Users\\lenovo\\AppData\\Local\\Programs\\Python\\Python310\\lib\\site-packages\\torch\\nn\\modules\\module.py:1762: FutureWarning: `encoder_attention_mask` is deprecated and will be removed in version 4.55.0 for `BertSdpaSelfAttention.forward`.\n",
      "  return forward_call(*args, **kwargs)\n"
     ]
    },
    {
     "name": "stdout",
     "output_type": "stream",
     "text": [
      "✅ Embeddings and CSV file saved.\n"
     ]
    }
   ],
   "source": [
    "import sqlite3\n",
    "import pandas as pd\n",
    "from sentence_transformers import SentenceTransformer\n",
    "import numpy as np\n",
    "\n",
    "# Connect to SQLite database\n",
    "conn = sqlite3.connect(r\"C:\\Users\\lenovo\\Desktop\\sementic search\\patent_db.sqlite\")\n",
    "\n",
    "# Load data from the 'patents' table (exclude 'processed')\n",
    "query = \"SELECT id, title, abstract, patent_number, publication_date, inventors, assignees FROM patents\"\n",
    "df = pd.read_sql_query(query, conn)\n",
    "\n",
    "# Combine title and abstract for embeddings\n",
    "df[\"title\"] = df[\"title\"].fillna(\"\")\n",
    "df[\"abstract\"] = df[\"abstract\"].fillna(\"\")\n",
    "df[\"text\"] = df[\"title\"] + \". \" + df[\"abstract\"]\n",
    "\n",
    "# Load SentenceTransformer model\n",
    "model = SentenceTransformer(\"all-MiniLM-L6-v2\")\n",
    "\n",
    "# Generate sentence embeddings\n",
    "texts = df[\"text\"].tolist()\n",
    "embeddings = model.encode(texts, show_progress_bar=True)\n",
    "\n",
    "# Save outputs\n",
    "np.save(\"embeddings1.npy\", embeddings)\n",
    "df.to_csv(\"patent_data1.csv\", index=False)\n",
    "\n",
    "# Close connection\n",
    "conn.close()\n",
    "\n",
    "print(\"✅ Embeddings and CSV file saved.\")"
   ]
  },
  {
   "cell_type": "code",
   "execution_count": 2,
   "id": "dc403f0c",
   "metadata": {},
   "outputs": [
    {
     "name": "stderr",
     "output_type": "stream",
     "text": [
      "C:\\Users\\lenovo\\Desktop\\sementic search\\app.py:9: DtypeWarning: Columns (6) have mixed types. Specify dtype option on import or set low_memory=False.\n",
      "  df = pd.read_csv(\"patent_data.csv\")\n",
      "2025-08-01 11:23:12.330 Examining the path of torch.classes raised:\n",
      "Traceback (most recent call last):\n",
      "  File \"C:\\Users\\lenovo\\AppData\\Local\\Programs\\Python\\Python310\\lib\\site-packages\\streamlit\\web\\bootstrap.py\", line 347, in run\n",
      "    if asyncio.get_running_loop().is_running():\n",
      "RuntimeError: no running event loop\n",
      "\n",
      "During handling of the above exception, another exception occurred:\n",
      "\n",
      "Traceback (most recent call last):\n",
      "  File \"C:\\Users\\lenovo\\AppData\\Local\\Programs\\Python\\Python310\\lib\\site-packages\\streamlit\\watcher\\local_sources_watcher.py\", line 217, in get_module_paths\n",
      "    potential_paths = extract_paths(module)\n",
      "  File \"C:\\Users\\lenovo\\AppData\\Local\\Programs\\Python\\Python310\\lib\\site-packages\\streamlit\\watcher\\local_sources_watcher.py\", line 210, in <lambda>\n",
      "    lambda m: list(m.__path__._path),\n",
      "  File \"C:\\Users\\lenovo\\AppData\\Local\\Programs\\Python\\Python310\\lib\\site-packages\\torch\\_classes.py\", line 13, in __getattr__\n",
      "    proxy = torch._C._get_custom_class_python_wrapper(self.name, attr)\n",
      "RuntimeError: Tried to instantiate class '__path__._path', but it does not exist! Ensure that it is registered via torch::class_\n",
      "forrtl: error (200): program aborting due to window-CLOSE event\n",
      "Image              PC                Routine            Line        Source             \n",
      "KERNELBASE.dll     00007FFE1C00B0AD  Unknown               Unknown  Unknown\n",
      "KERNEL32.DLL       00007FFE1E9BE8D7  Unknown               Unknown  Unknown\n",
      "ntdll.dll          00007FFE1ED9C34C  Unknown               Unknown  Unknown\n"
     ]
    },
    {
     "name": "stdout",
     "output_type": "stream",
     "text": [
      "\n",
      "  You can now view your Streamlit app in your browser.\n",
      "\n",
      "  Local URL: http://localhost:8501\n",
      "  Network URL: http://192.168.1.3:8501\n",
      "\n"
     ]
    }
   ],
   "source": [
    "!streamlit run app.py"
   ]
  },
  {
   "cell_type": "code",
   "execution_count": null,
   "id": "96187276",
   "metadata": {},
   "outputs": [],
   "source": []
  }
 ],
 "metadata": {
  "kernelspec": {
   "display_name": "Python 3 (ipykernel)",
   "language": "python",
   "name": "python3"
  },
  "language_info": {
   "codemirror_mode": {
    "name": "ipython",
    "version": 3
   },
   "file_extension": ".py",
   "mimetype": "text/x-python",
   "name": "python",
   "nbconvert_exporter": "python",
   "pygments_lexer": "ipython3",
   "version": "3.10.5"
  }
 },
 "nbformat": 4,
 "nbformat_minor": 5
}
