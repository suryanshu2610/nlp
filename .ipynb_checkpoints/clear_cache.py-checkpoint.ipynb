{
 "cells": [
  {
   "cell_type": "code",
   "execution_count": null,
   "id": "de2b2442",
   "metadata": {},
   "outputs": [],
   "source": [
    "import shutil\n",
    "import os\n",
    "\n",
    "model_name = 'all-MiniLM-L6-v2'\n",
    "cache_dir = os.path.expanduser(f'~/.cache/torch/sentence_transformers/{model_name}')\n",
    "\n",
    "if os.path.exists(cache_dir):\n",
    "    print(f\"Deleting model cache at: {cache_dir}\")\n",
    "    shutil.rmtree(cache_dir)\n",
    "else:\n",
    "    print(\"No existing model cache found.\")\n"
   ]
  }
 ],
 "metadata": {
  "kernelspec": {
   "display_name": "Python 3 (ipykernel)",
   "language": "python",
   "name": "python3"
  },
  "language_info": {
   "codemirror_mode": {
    "name": "ipython",
    "version": 3
   },
   "file_extension": ".py",
   "mimetype": "text/x-python",
   "name": "python",
   "nbconvert_exporter": "python",
   "pygments_lexer": "ipython3",
   "version": "3.10.5"
  }
 },
 "nbformat": 4,
 "nbformat_minor": 5
}
